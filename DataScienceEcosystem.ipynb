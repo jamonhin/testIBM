{
 "cells": [
  {
   "cell_type": "markdown",
   "id": "8ec20a38-124a-43bb-a436-36a7fa571e43",
   "metadata": {},
   "source": [
    "# Data Science Tools and Ecosystem"
   ]
  },
  {
   "cell_type": "markdown",
   "id": "4d5dc23c-04e3-4398-9551-ddbaae253109",
   "metadata": {},
   "source": [
    "In this notebook, Data Science Tools and Ecosystem are summarized."
   ]
  },
  {
   "cell_type": "markdown",
   "id": "aa5dc13d-5beb-4d8f-bf7f-bdec2fe4e971",
   "metadata": {},
   "source": [
    "**Objectives:**\n",
    "+ List popular languages for Data Science\n",
    "+ List commonly used libraries used by Data Scientists\n",
    "+ Creating a table of Data Science tools\n",
    "+ How to use Jupyter Notebook Cells"
   ]
  },
  {
   "cell_type": "markdown",
   "id": "d8c3e067-7947-488b-b12b-76d901068fbb",
   "metadata": {},
   "source": [
    "Some of the popular languages that Data Scientists use are:\n",
    "\n",
    "1. Python\n",
    "2. R\n",
    "3. SQL\n",
    "4. VBA\n",
    "5. C++\n",
    "6. C#\n",
    "7. Java\n",
    "8. JavaScript"
   ]
  },
  {
   "cell_type": "markdown",
   "id": "c485ec35-1643-45c6-afdc-164fc4f0c0d8",
   "metadata": {},
   "source": [
    "**Exercise 5** - Create a markdown cell to list data science libraries"
   ]
  },
  {
   "cell_type": "markdown",
   "id": "c2870c2d-1f53-4c0b-a2ae-6b623c6bbdd4",
   "metadata": {},
   "source": [
    "Some of the commonly used libraries used by Data Scientists include:\n",
    "\n",
    "### Python\n",
    "- Pandas\n",
    "- Numpy\n",
    "- Matplotlib\n",
    "- Seaborn\n",
    "- Scikit-learn\n",
    "- TensorFlow and Keras\n",
    "\n",
    "### R\n",
    "- dplyr\n",
    "- ggplot2\n",
    "- tidyr\n",
    "- caret\n",
    "- shiny\n",
    "- data.table"
   ]
  },
  {
   "cell_type": "markdown",
   "id": "6f0db670-729d-4765-af1d-606a30dd9a6e",
   "metadata": {},
   "source": [
    "**Exercise 6** - Create a markdown cell with a table of Data Science tools"
   ]
  },
  {
   "cell_type": "markdown",
   "id": "394d35ee-d8b6-461d-aed9-e8bf1519ecb8",
   "metadata": {},
   "source": [
    "| Data Science Tools      |\n",
    "|-------------------------|\n",
    "| Jupyter Notebook        |\n",
    "| RStudio                 |\n",
    "| SQL                     |\n",
    "| Visual Studio           |\n",
    "| Anaconda         |\n"
   ]
  },
  {
   "cell_type": "markdown",
   "id": "6c988f5d-74dd-48d6-92ad-fe27df4305e4",
   "metadata": {},
   "source": [
    "**Exercise 7** - Create a markdown cell introducing arithmetic expression examples"
   ]
  },
  {
   "cell_type": "markdown",
   "id": "359b541a-76bf-434d-b268-c0da9de64d7a",
   "metadata": {},
   "source": [
    "### Below are a few examples of evaluating arithmetic expressions in Python"
   ]
  },
  {
   "cell_type": "markdown",
   "id": "c78bbb8b-5144-40fe-a866-92639f051b68",
   "metadata": {},
   "source": [
    "**Exercise 8** - Create a code cell to multiply and add numbers"
   ]
  },
  {
   "cell_type": "code",
   "execution_count": 23,
   "id": "fe4686ab-b12c-4e99-baea-09014153c5eb",
   "metadata": {},
   "outputs": [
    {
     "data": {
      "text/plain": [
       "17"
      ]
     },
     "execution_count": 23,
     "metadata": {},
     "output_type": "execute_result"
    }
   ],
   "source": [
    "# In this code cell evaluate the expression\n",
    "(3*4)+5"
   ]
  },
  {
   "cell_type": "markdown",
   "id": "41bcb4fb-c526-4a30-ae87-da175933cddb",
   "metadata": {},
   "source": [
    "**Exercise 9** - Create a code cell to convert minutes to hours"
   ]
  },
  {
   "cell_type": "code",
   "execution_count": 59,
   "id": "fd0abde2-4cd4-4576-9340-625f34b8cc62",
   "metadata": {},
   "outputs": [
    {
     "name": "stdout",
     "output_type": "stream",
     "text": [
      "3.3333333333333335\n"
     ]
    }
   ],
   "source": [
    "# In this code cell write an expression that converts 200 minutes into hours.\n",
    "# This will convert 200 minutes to hours by diving by 60\n",
    "minutes = 200\n",
    "hours = minutes / 60\n",
    "print(hours)"
   ]
  },
  {
   "cell_type": "markdown",
   "id": "ac9833cb-f980-4ae5-a808-4d301c9c0fd9",
   "metadata": {},
   "source": [
    "**Exercise 10** - Insert a markdown cell to list Objectives\n",
    "\n",
    "Done above after exercise 3"
   ]
  },
  {
   "cell_type": "markdown",
   "id": "105cb20d-878d-4b6e-b93e-aeb1025455ca",
   "metadata": {},
   "source": [
    "**Exercise 11** - Create a markdown cell to indicate the Author's name"
   ]
  },
  {
   "cell_type": "markdown",
   "id": "eb1f9060-6a24-4c11-91d4-d8512df6b373",
   "metadata": {},
   "source": [
    "## Author: \n",
    " James Montoya Hincapie"
   ]
  },
  {
   "cell_type": "code",
   "execution_count": null,
   "id": "c3f86d34-6887-44b7-b8c5-34250d8300d4",
   "metadata": {},
   "outputs": [],
   "source": []
  }
 ],
 "metadata": {
  "kernelspec": {
   "display_name": "Python 3 (ipykernel)",
   "language": "python",
   "name": "python3"
  },
  "language_info": {
   "codemirror_mode": {
    "name": "ipython",
    "version": 3
   },
   "file_extension": ".py",
   "mimetype": "text/x-python",
   "name": "python",
   "nbconvert_exporter": "python",
   "pygments_lexer": "ipython3",
   "version": "3.11.4"
  }
 },
 "nbformat": 4,
 "nbformat_minor": 5
}
